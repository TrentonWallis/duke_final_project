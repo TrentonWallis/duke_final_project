{
 "cells": [
  {
   "cell_type": "markdown",
   "id": "248fb82a",
   "metadata": {},
   "source": [
    "# Buying on Emotion\n",
    "### An attempt on predicting market trends based on the emotions from Twitter users\n",
    "\n",
    "In this notebook I will try to see if a model can predict an increase in the open price of the SPY etf based on emotional data from twitter. The assumption I am testing, is that happier people tend to have a higher outlook on the next day, thus they may be more likey to invest or trade. \n",
    "\n",
    "Ideally, our model should preform better than 50% accuracy (random guess). "
   ]
  },
  {
   "cell_type": "code",
   "execution_count": 77,
   "id": "4b9644de",
   "metadata": {},
   "outputs": [],
   "source": [
    "import random\n",
    "import numpy as np\n",
    "import pandas as pd\n",
    "import matplotlib.pyplot as plt\n",
    "import seaborn as sns\n",
    "from sklearn.tree import DecisionTreeClassifier\n",
    "from sklearn.ensemble import RandomForestClassifier\n",
    "from sklearn.linear_model import LogisticRegression\n",
    "from sklearn.model_selection import train_test_split, GridSearchCV\n",
    "from sklearn.metrics import accuracy_score\n",
    "import seaborn as sns\n",
    "import datetime as dt\n",
    "\n",
    "import warnings\n",
    "warnings.filterwarnings(\"ignore\")"
   ]
  },
  {
   "cell_type": "markdown",
   "id": "50979d4c",
   "metadata": {},
   "source": [
    "## Collecting Data\n",
    "Data will be collected from two sources. The first source will be hedonometer data, this data is created based on the \"happiness\" of the words in tweets in the US, and also how many words were tweeted that day as \"frequency\". It can also track happiness in parallel with major events, but I will not be using that data. \n",
    "\n",
    "If you are interested here is the link to the website: https://hedonometer.org/timeseries/en_all/?from=2020-02-06&to=2021-08-05\n",
    "\n",
    "I will also be using SPY etf data. This is data based on the SP 500 US stock data. I will be collecting the \"Close/Last\", \"Open\", \"Volume\", \"High\", and \"Low\". In this initial example I will be just be using the difference in the \"Open\" price from one day to the next (this will be calcuated separately later). \n"
   ]
  },
  {
   "cell_type": "code",
   "execution_count": 78,
   "id": "e2efc376",
   "metadata": {},
   "outputs": [
    {
     "data": {
      "text/html": [
       "<div>\n",
       "<style scoped>\n",
       "    .dataframe tbody tr th:only-of-type {\n",
       "        vertical-align: middle;\n",
       "    }\n",
       "\n",
       "    .dataframe tbody tr th {\n",
       "        vertical-align: top;\n",
       "    }\n",
       "\n",
       "    .dataframe thead th {\n",
       "        text-align: right;\n",
       "    }\n",
       "</style>\n",
       "<table border=\"1\" class=\"dataframe\">\n",
       "  <thead>\n",
       "    <tr style=\"text-align: right;\">\n",
       "      <th></th>\n",
       "      <th>date</th>\n",
       "      <th>frequency</th>\n",
       "      <th>happiness</th>\n",
       "      <th>timeseries</th>\n",
       "    </tr>\n",
       "  </thead>\n",
       "  <tbody>\n",
       "    <tr>\n",
       "      <th>37</th>\n",
       "      <td>2019-01-01</td>\n",
       "      <td>145361578.0</td>\n",
       "      <td>6.095</td>\n",
       "      <td>/api/v1/timeseries/3/</td>\n",
       "    </tr>\n",
       "    <tr>\n",
       "      <th>38</th>\n",
       "      <td>2019-01-02</td>\n",
       "      <td>156353260.0</td>\n",
       "      <td>6.007</td>\n",
       "      <td>/api/v1/timeseries/3/</td>\n",
       "    </tr>\n",
       "    <tr>\n",
       "      <th>39</th>\n",
       "      <td>2019-01-03</td>\n",
       "      <td>161389001.0</td>\n",
       "      <td>6.002</td>\n",
       "      <td>/api/v1/timeseries/3/</td>\n",
       "    </tr>\n",
       "    <tr>\n",
       "      <th>40</th>\n",
       "      <td>2019-01-04</td>\n",
       "      <td>163318124.0</td>\n",
       "      <td>5.983</td>\n",
       "      <td>/api/v1/timeseries/3/</td>\n",
       "    </tr>\n",
       "    <tr>\n",
       "      <th>41</th>\n",
       "      <td>2019-01-05</td>\n",
       "      <td>159511070.0</td>\n",
       "      <td>5.984</td>\n",
       "      <td>/api/v1/timeseries/3/</td>\n",
       "    </tr>\n",
       "  </tbody>\n",
       "</table>\n",
       "</div>"
      ],
      "text/plain": [
       "          date    frequency happiness             timeseries\n",
       "37  2019-01-01  145361578.0     6.095  /api/v1/timeseries/3/\n",
       "38  2019-01-02  156353260.0     6.007  /api/v1/timeseries/3/\n",
       "39  2019-01-03  161389001.0     6.002  /api/v1/timeseries/3/\n",
       "40  2019-01-04  163318124.0     5.983  /api/v1/timeseries/3/\n",
       "41  2019-01-05  159511070.0     5.984  /api/v1/timeseries/3/"
      ]
     },
     "execution_count": 78,
     "metadata": {},
     "output_type": "execute_result"
    }
   ],
   "source": [
    "# getting data from both SPI and from twitter website. \n",
    "# First lets get twitter website data \n",
    "import requests\n",
    "import json\n",
    "uri = 'http://hedonometer.org/api/v1/happiness/?format=json&timeseries__title=en_all&date__gte=2019-01-01&limit=1000'\n",
    "r = requests.get(uri)\n",
    "twitter_emotions_df = pd.DataFrame(json.loads(r.content)['objects'])\n",
    "twitter_emotions_df.sort_values('date', inplace=True)\n",
    "twitter_emotions_df.head()"
   ]
  },
  {
   "cell_type": "code",
   "execution_count": 79,
   "id": "91300ca2",
   "metadata": {},
   "outputs": [
    {
     "data": {
      "text/html": [
       "<div>\n",
       "<style scoped>\n",
       "    .dataframe tbody tr th:only-of-type {\n",
       "        vertical-align: middle;\n",
       "    }\n",
       "\n",
       "    .dataframe tbody tr th {\n",
       "        vertical-align: top;\n",
       "    }\n",
       "\n",
       "    .dataframe thead th {\n",
       "        text-align: right;\n",
       "    }\n",
       "</style>\n",
       "<table border=\"1\" class=\"dataframe\">\n",
       "  <thead>\n",
       "    <tr style=\"text-align: right;\">\n",
       "      <th></th>\n",
       "      <th>Date</th>\n",
       "      <th>Close/Last</th>\n",
       "      <th>Volume</th>\n",
       "      <th>Open</th>\n",
       "      <th>High</th>\n",
       "      <th>Low</th>\n",
       "    </tr>\n",
       "  </thead>\n",
       "  <tbody>\n",
       "    <tr>\n",
       "      <th>0</th>\n",
       "      <td>08/04/2016</td>\n",
       "      <td>216.4097</td>\n",
       "      <td>46454000</td>\n",
       "      <td>216.31</td>\n",
       "      <td>216.7800</td>\n",
       "      <td>214.25</td>\n",
       "    </tr>\n",
       "    <tr>\n",
       "      <th>1</th>\n",
       "      <td>08/05/2016</td>\n",
       "      <td>218.1800</td>\n",
       "      <td>71799630</td>\n",
       "      <td>217.21</td>\n",
       "      <td>218.2300</td>\n",
       "      <td>217.07</td>\n",
       "    </tr>\n",
       "    <tr>\n",
       "      <th>2</th>\n",
       "      <td>08/08/2016</td>\n",
       "      <td>218.0500</td>\n",
       "      <td>39681420</td>\n",
       "      <td>218.40</td>\n",
       "      <td>218.5200</td>\n",
       "      <td>217.74</td>\n",
       "    </tr>\n",
       "    <tr>\n",
       "      <th>3</th>\n",
       "      <td>08/09/2016</td>\n",
       "      <td>218.1800</td>\n",
       "      <td>51073070</td>\n",
       "      <td>218.13</td>\n",
       "      <td>218.7600</td>\n",
       "      <td>217.80</td>\n",
       "    </tr>\n",
       "    <tr>\n",
       "      <th>4</th>\n",
       "      <td>08/10/2016</td>\n",
       "      <td>217.6400</td>\n",
       "      <td>57758740</td>\n",
       "      <td>218.31</td>\n",
       "      <td>218.4038</td>\n",
       "      <td>217.23</td>\n",
       "    </tr>\n",
       "  </tbody>\n",
       "</table>\n",
       "</div>"
      ],
      "text/plain": [
       "         Date  Close/Last    Volume    Open      High     Low\n",
       "0  08/04/2016    216.4097  46454000  216.31  216.7800  214.25\n",
       "1  08/05/2016    218.1800  71799630  217.21  218.2300  217.07\n",
       "2  08/08/2016    218.0500  39681420  218.40  218.5200  217.74\n",
       "3  08/09/2016    218.1800  51073070  218.13  218.7600  217.80\n",
       "4  08/10/2016    217.6400  57758740  218.31  218.4038  217.23"
      ]
     },
     "execution_count": 79,
     "metadata": {},
     "output_type": "execute_result"
    }
   ],
   "source": [
    "# getting spi data\n",
    "spy_data_read_df = pd.read_csv(\"spy_data.csv\")\n",
    "spy_data_read_df = spy_data_read_df.iloc[::-1]\n",
    "spy_data_read_df.reset_index(inplace=True)\n",
    "spy_data_df = spy_data_read_df.copy()\n",
    "spy_data_df.drop(columns=['index'], inplace=True)\n",
    "spy_data_df.head()"
   ]
  },
  {
   "cell_type": "markdown",
   "id": "e1cd74be",
   "metadata": {},
   "source": [
    "## Exploring Data\n",
    "In this section I will be seeing what a few of the databases look like. Try to see any intial trends, and predict any future pitfalls. \n"
   ]
  },
  {
   "cell_type": "code",
   "execution_count": 84,
   "id": "65a26b87",
   "metadata": {
    "scrolled": true
   },
   "outputs": [
    {
     "data": {
      "text/plain": [
       "<AxesSubplot:title={'center':'Word count per date'}, xlabel='date'>"
      ]
     },
     "execution_count": 84,
     "metadata": {},
     "output_type": "execute_result"
    },
    {
     "data": {
      "image/png": "[encoded data removed]",
      "text/plain": [
       "<Figure size 432x288 with 1 Axes>"
      ]
     },
     "metadata": {
      "needs_background": "light"
     },
     "output_type": "display_data"
    },
    {
     "data": {
      "image/png": "[encoded data removed]",
      "text/plain": [
       "<Figure size 432x288 with 1 Axes>"
      ]
     },
     "metadata": {
      "needs_background": "light"
     },
     "output_type": "display_data"
    }
   ],
   "source": [
    "#twitter data exploration\n",
    "# what does the data look like?\n",
    "twitter_preview = twitter_emotions_df[-20:-1]\n",
    "twitter_preview['happiness'] = twitter_preview['happiness'].astype(float)\n",
    "twitter_preview.plot(x='date', y='happiness', title='Happiness per date')\n",
    "twitter_preview.plot(x='date', y='frequency', color='red', title='Word count per date')"
   ]
  },
  {
   "cell_type": "code",
   "execution_count": 5,
   "id": "2ad9e01b",
   "metadata": {},
   "outputs": [
    {
     "data": {
      "image/png": "[encoded data removed]",
      "text/plain": [
       "<Figure size 432x288 with 1 Axes>"
      ]
     },
     "metadata": {
      "needs_background": "light"
     },
     "output_type": "display_data"
    },
    {
     "data": {
      "image/png": "[encoded data removed]",
      "text/plain": [
       "<Figure size 432x288 with 1 Axes>"
      ]
     },
     "metadata": {
      "needs_background": "light"
     },
     "output_type": "display_data"
    },
    {
     "data": {
      "image/png": "[encoded data removed]",
      "text/plain": [
       "<Figure size 432x288 with 1 Axes>"
      ]
     },
     "metadata": {
      "needs_background": "light"
     },
     "output_type": "display_data"
    },
    {
     "data": {
      "image/png": "[encoded data removed]",
      "text/plain": [
       "<Figure size 432x288 with 1 Axes>"
      ]
     },
     "metadata": {
      "needs_background": "light"
     },
     "output_type": "display_data"
    },
    {
     "data": {
      "image/png": "[encoded data removed]",
      "text/plain": [
       "<Figure size 432x288 with 1 Axes>"
      ]
     },
     "metadata": {
      "needs_background": "light"
     },
     "output_type": "display_data"
    }
   ],
   "source": [
    "# now lets look at spy data\n",
    "spy_preview = spy_data_df[-20:-1]\n",
    "for column in spy_preview.columns[1:]:\n",
    "    color_pick = \"#\"+''.join([random.choice('0123456789ABCDEF') for j in range(6)])\n",
    "    spy_preview.plot(x=spy_preview.columns[0], y=column, title=f'{column} per date', color=color_pick)\n",
    "\n"
   ]
  },
  {
   "cell_type": "markdown",
   "id": "51c50f73",
   "metadata": {},
   "source": [
    "## Cleaning Data \n",
    "\n",
    "After looking at my data a bit, I noticed that the twitter data only goes as far back as the beginning of 2019. This is important since the SPY data goes back futher than 2012! \n",
    "\n",
    "Since we are looking at predicting SPY data changes, we will clean up the SPY data to only have 2019 forward. \n",
    "\n",
    "You may also notice that some dates are missing from the SPY data. This is because the market is closed on weekends and on holidays. However since we only need to predict an increase in the next market day, we can leave all the twitter data, as over the weekend an event in real life may spark a lot of twitter activity which may effect the opening prices of SPY."
   ]
  },
  {
   "cell_type": "code",
   "execution_count": 76,
   "id": "6bc314c2",
   "metadata": {},
   "outputs": [
    {
     "data": {
      "text/html": [
       "<div>\n",
       "<style scoped>\n",
       "    .dataframe tbody tr th:only-of-type {\n",
       "        vertical-align: middle;\n",
       "    }\n",
       "\n",
       "    .dataframe tbody tr th {\n",
       "        vertical-align: top;\n",
       "    }\n",
       "\n",
       "    .dataframe thead th {\n",
       "        text-align: right;\n",
       "    }\n",
       "</style>\n",
       "<table border=\"1\" class=\"dataframe\">\n",
       "  <thead>\n",
       "    <tr style=\"text-align: right;\">\n",
       "      <th></th>\n",
       "      <th>Date</th>\n",
       "      <th>Close/Last</th>\n",
       "      <th>Volume</th>\n",
       "      <th>Open</th>\n",
       "      <th>High</th>\n",
       "      <th>Low</th>\n",
       "    </tr>\n",
       "  </thead>\n",
       "  <tbody>\n",
       "    <tr>\n",
       "      <th>0</th>\n",
       "      <td>01/02/2019</td>\n",
       "      <td>250.18</td>\n",
       "      <td>126041700</td>\n",
       "      <td>245.98</td>\n",
       "      <td>251.21</td>\n",
       "      <td>245.95</td>\n",
       "    </tr>\n",
       "    <tr>\n",
       "      <th>1</th>\n",
       "      <td>01/03/2019</td>\n",
       "      <td>244.21</td>\n",
       "      <td>142029300</td>\n",
       "      <td>248.23</td>\n",
       "      <td>248.57</td>\n",
       "      <td>243.67</td>\n",
       "    </tr>\n",
       "    <tr>\n",
       "      <th>2</th>\n",
       "      <td>01/04/2019</td>\n",
       "      <td>252.39</td>\n",
       "      <td>142444500</td>\n",
       "      <td>247.59</td>\n",
       "      <td>253.11</td>\n",
       "      <td>247.17</td>\n",
       "    </tr>\n",
       "    <tr>\n",
       "      <th>3</th>\n",
       "      <td>01/07/2019</td>\n",
       "      <td>254.38</td>\n",
       "      <td>102307400</td>\n",
       "      <td>252.69</td>\n",
       "      <td>255.95</td>\n",
       "      <td>251.69</td>\n",
       "    </tr>\n",
       "    <tr>\n",
       "      <th>4</th>\n",
       "      <td>01/08/2019</td>\n",
       "      <td>256.77</td>\n",
       "      <td>101804900</td>\n",
       "      <td>256.82</td>\n",
       "      <td>257.31</td>\n",
       "      <td>254.00</td>\n",
       "    </tr>\n",
       "  </tbody>\n",
       "</table>\n",
       "</div>"
      ],
      "text/plain": [
       "         Date  Close/Last     Volume    Open    High     Low\n",
       "0  01/02/2019      250.18  126041700  245.98  251.21  245.95\n",
       "1  01/03/2019      244.21  142029300  248.23  248.57  243.67\n",
       "2  01/04/2019      252.39  142444500  247.59  253.11  247.17\n",
       "3  01/07/2019      254.38  102307400  252.69  255.95  251.69\n",
       "4  01/08/2019      256.77  101804900  256.82  257.31  254.00"
      ]
     },
     "execution_count": 76,
     "metadata": {},
     "output_type": "execute_result"
    }
   ],
   "source": [
    "# twitter data only goes back to 2019, need to keep that in mind \n",
    "index_spy_2019_start = spy_data_df[spy_data_df['Date'] == '01/02/2019'].index.values # market is closed on new years\n",
    "spy_2019_beyond_data_df = spy_data_df.iloc[int(index_spy_2019_start):-1]\n",
    "spy_2019_beyond_data_df = spy_2019_beyond_data_df.reset_index()\n",
    "spy_2019_beyond_data_df.drop(columns = ['index'], inplace=True)\n",
    "spy_2019_beyond_data_df.head()\n"
   ]
  },
  {
   "cell_type": "markdown",
   "id": "90eb9310",
   "metadata": {},
   "source": [
    "## Peparing Data\n",
    "\n",
    "Since I am using the previous N days of twitter emotion data to predict a spy day, I need to create a function that will give me the N previous days based on a date passed in. \n",
    "\n",
    "I also will create a simliar fucntion for the SPY dates too if I ever want to expand using SPY trends in my model as well. \n",
    "\n",
    "It is also necessary to create an output dataframe that records the differences in a SPY output from the previous open market day. In this case I am using the \"Open\" output. Once I get that difference, I need to determine if that is an upward trend or not. Since I have the actual difference and the trend, I will make both accessible, incase later we train models to actually predict the monetary amount too. "
   ]
  },
  {
   "cell_type": "code",
   "execution_count": 7,
   "id": "697e6f7c",
   "metadata": {},
   "outputs": [
    {
     "data": {
      "text/html": [
       "<div>\n",
       "<style scoped>\n",
       "    .dataframe tbody tr th:only-of-type {\n",
       "        vertical-align: middle;\n",
       "    }\n",
       "\n",
       "    .dataframe tbody tr th {\n",
       "        vertical-align: top;\n",
       "    }\n",
       "\n",
       "    .dataframe thead th {\n",
       "        text-align: right;\n",
       "    }\n",
       "</style>\n",
       "<table border=\"1\" class=\"dataframe\">\n",
       "  <thead>\n",
       "    <tr style=\"text-align: right;\">\n",
       "      <th></th>\n",
       "      <th>date</th>\n",
       "      <th>frequency</th>\n",
       "      <th>happiness</th>\n",
       "      <th>timeseries</th>\n",
       "    </tr>\n",
       "  </thead>\n",
       "  <tbody>\n",
       "    <tr>\n",
       "      <th>231</th>\n",
       "      <td>2019-07-29</td>\n",
       "      <td>178275397.0</td>\n",
       "      <td>5.924</td>\n",
       "      <td>/api/v1/timeseries/3/</td>\n",
       "    </tr>\n",
       "    <tr>\n",
       "      <th>232</th>\n",
       "      <td>2019-07-30</td>\n",
       "      <td>181534815.0</td>\n",
       "      <td>5.947</td>\n",
       "      <td>/api/v1/timeseries/3/</td>\n",
       "    </tr>\n",
       "    <tr>\n",
       "      <th>233</th>\n",
       "      <td>2019-07-31</td>\n",
       "      <td>174871449.0</td>\n",
       "      <td>5.946</td>\n",
       "      <td>/api/v1/timeseries/3/</td>\n",
       "    </tr>\n",
       "    <tr>\n",
       "      <th>234</th>\n",
       "      <td>2019-08-01</td>\n",
       "      <td>170821458.0</td>\n",
       "      <td>5.980</td>\n",
       "      <td>/api/v1/timeseries/3/</td>\n",
       "    </tr>\n",
       "    <tr>\n",
       "      <th>235</th>\n",
       "      <td>2019-08-02</td>\n",
       "      <td>162774205.0</td>\n",
       "      <td>5.963</td>\n",
       "      <td>/api/v1/timeseries/3/</td>\n",
       "    </tr>\n",
       "  </tbody>\n",
       "</table>\n",
       "</div>"
      ],
      "text/plain": [
       "           date    frequency happiness             timeseries\n",
       "231  2019-07-29  178275397.0     5.924  /api/v1/timeseries/3/\n",
       "232  2019-07-30  181534815.0     5.947  /api/v1/timeseries/3/\n",
       "233  2019-07-31  174871449.0     5.946  /api/v1/timeseries/3/\n",
       "234  2019-08-01  170821458.0     5.980  /api/v1/timeseries/3/\n",
       "235  2019-08-02  162774205.0     5.963  /api/v1/timeseries/3/"
      ]
     },
     "execution_count": 7,
     "metadata": {},
     "output_type": "execute_result"
    }
   ],
   "source": [
    "# Now we want to prepare our data\n",
    "def get_twitter_days(twitter_data_df, date, num_days=5):\n",
    "    date = date.strftime(\"%Y-%m-%d\")\n",
    "    twitter_d = twitter_data_df.reset_index()\n",
    "    index_date_twitter = twitter_d[twitter_d['date'] == date].index.values\n",
    "    assert len(index_date_twitter) != 0, f\"The twitter date: {date} does not exist.\"\n",
    "    index_date_twitter = int(index_date_twitter)\n",
    "    twitter_dates_df = twitter_data_df[index_date_twitter-num_days+1:index_date_twitter+1]\n",
    "    #twitter_dates_df.drop(columns = ['index'], inplace =True)\n",
    "    return twitter_dates_df\n",
    "\n",
    "d = dt.datetime(2019, 8, 2)\n",
    "test_tw = get_twitter_days(twitter_emotions_df, d, 5)\n",
    "print(test_tw.head(10))\n",
    "# looks like it works!\n"
   ]
  },
  {
   "cell_type": "code",
   "execution_count": 8,
   "id": "e36e256b",
   "metadata": {},
   "outputs": [
    {
     "data": {
      "text/html": [
       "<div>\n",
       "<style scoped>\n",
       "    .dataframe tbody tr th:only-of-type {\n",
       "        vertical-align: middle;\n",
       "    }\n",
       "\n",
       "    .dataframe tbody tr th {\n",
       "        vertical-align: top;\n",
       "    }\n",
       "\n",
       "    .dataframe thead th {\n",
       "        text-align: right;\n",
       "    }\n",
       "</style>\n",
       "<table border=\"1\" class=\"dataframe\">\n",
       "  <thead>\n",
       "    <tr style=\"text-align: right;\">\n",
       "      <th></th>\n",
       "      <th>Date</th>\n",
       "      <th>Close/Last</th>\n",
       "      <th>Volume</th>\n",
       "      <th>Open</th>\n",
       "      <th>High</th>\n",
       "      <th>Low</th>\n",
       "    </tr>\n",
       "  </thead>\n",
       "  <tbody>\n",
       "    <tr>\n",
       "      <th>271</th>\n",
       "      <td>01/30/2020</td>\n",
       "      <td>327.68</td>\n",
       "      <td>75491840</td>\n",
       "      <td>324.36</td>\n",
       "      <td>327.91</td>\n",
       "      <td>323.54</td>\n",
       "    </tr>\n",
       "    <tr>\n",
       "      <th>272</th>\n",
       "      <td>01/31/2020</td>\n",
       "      <td>321.73</td>\n",
       "      <td>113845600</td>\n",
       "      <td>327.00</td>\n",
       "      <td>327.17</td>\n",
       "      <td>320.73</td>\n",
       "    </tr>\n",
       "    <tr>\n",
       "      <th>273</th>\n",
       "      <td>02/03/2020</td>\n",
       "      <td>324.12</td>\n",
       "      <td>69242290</td>\n",
       "      <td>323.35</td>\n",
       "      <td>326.16</td>\n",
       "      <td>323.22</td>\n",
       "    </tr>\n",
       "  </tbody>\n",
       "</table>\n",
       "</div>"
      ],
      "text/plain": [
       "           Date  Close/Last     Volume    Open    High     Low\n",
       "271  01/30/2020      327.68   75491840  324.36  327.91  323.54\n",
       "272  01/31/2020      321.73  113845600  327.00  327.17  320.73\n",
       "273  02/03/2020      324.12   69242290  323.35  326.16  323.22"
      ]
     },
     "execution_count": 8,
     "metadata": {},
     "output_type": "execute_result"
    }
   ],
   "source": [
    "# do same thing for getting spy day \n",
    "def get_spy_days(spy_data_df, date, num_days=1):\n",
    "    date = date.strftime(\"%m/%d/%Y\")\n",
    "    spy_d = spy_data_df.reset_index()\n",
    "    index_date_spy = spy_d[spy_d['Date'] == date].index.values\n",
    "    assert len(index_date_spy) != 0, f\"The spy date: {date} does not exist.\"\n",
    "    index_date_spy = int(index_date_spy)\n",
    "    spy_dates_df = spy_data_df[index_date_spy-num_days+1:index_date_spy+1]\n",
    "    return spy_dates_df\n",
    "\n",
    "d = dt.datetime(2020, 2, 3)\n",
    "test_spy = get_spy_days(spy_2019_beyond_data_df, d, 3)\n",
    "test_spy.head()\n",
    "    "
   ]
  },
  {
   "cell_type": "code",
   "execution_count": 85,
   "id": "87bc9278",
   "metadata": {},
   "outputs": [
    {
     "data": {
      "text/html": [
       "<div>\n",
       "<style scoped>\n",
       "    .dataframe tbody tr th:only-of-type {\n",
       "        vertical-align: middle;\n",
       "    }\n",
       "\n",
       "    .dataframe tbody tr th {\n",
       "        vertical-align: top;\n",
       "    }\n",
       "\n",
       "    .dataframe thead th {\n",
       "        text-align: right;\n",
       "    }\n",
       "</style>\n",
       "<table border=\"1\" class=\"dataframe\">\n",
       "  <thead>\n",
       "    <tr style=\"text-align: right;\">\n",
       "      <th></th>\n",
       "      <th>Date</th>\n",
       "      <th>diff</th>\n",
       "      <th>upward</th>\n",
       "    </tr>\n",
       "  </thead>\n",
       "  <tbody>\n",
       "    <tr>\n",
       "      <th>0</th>\n",
       "      <td>01/03/2019</td>\n",
       "      <td>-2.64</td>\n",
       "      <td>False</td>\n",
       "    </tr>\n",
       "    <tr>\n",
       "      <th>1</th>\n",
       "      <td>01/04/2019</td>\n",
       "      <td>4.54</td>\n",
       "      <td>True</td>\n",
       "    </tr>\n",
       "    <tr>\n",
       "      <th>2</th>\n",
       "      <td>01/07/2019</td>\n",
       "      <td>2.84</td>\n",
       "      <td>True</td>\n",
       "    </tr>\n",
       "    <tr>\n",
       "      <th>3</th>\n",
       "      <td>01/08/2019</td>\n",
       "      <td>1.36</td>\n",
       "      <td>True</td>\n",
       "    </tr>\n",
       "    <tr>\n",
       "      <th>4</th>\n",
       "      <td>01/09/2019</td>\n",
       "      <td>1.60</td>\n",
       "      <td>True</td>\n",
       "    </tr>\n",
       "  </tbody>\n",
       "</table>\n",
       "</div>"
      ],
      "text/plain": [
       "         Date  diff  upward\n",
       "0  01/03/2019 -2.64   False\n",
       "1  01/04/2019  4.54    True\n",
       "2  01/07/2019  2.84    True\n",
       "3  01/08/2019  1.36    True\n",
       "4  01/09/2019  1.60    True"
      ]
     },
     "execution_count": 85,
     "metadata": {},
     "output_type": "execute_result"
    }
   ],
   "source": [
    "# now since we want the next days data we need to build a data set that holds the difference between two days. \n",
    "def get_spy_diff_data(spy_data, column_name='Close/Last'):\n",
    "    difference = pd.DataFrame(spy_data['Date'][1:-1]).reset_index()\n",
    "    temp1 = spy_data[column_name][1:].reset_index()\n",
    "    temp2 = spy_data[column_name][0:-1].reset_index()\n",
    "    diff = temp1-temp2\n",
    "    diff.drop(columns = ['index'], inplace=True)\n",
    "    difference['diff'] = diff\n",
    "    difference['upward'] = difference['diff'] > 0\n",
    "    difference.drop(columns = ['index'], inplace=True)\n",
    "    return difference\n",
    "\n",
    "difference_data = get_spy_diff_data(spy_2019_beyond_data_df, 'High')\n",
    "difference_data.head()\n",
    "# looks like it worked!"
   ]
  },
  {
   "cell_type": "markdown",
   "id": "b9076404",
   "metadata": {},
   "source": [
    "### A major challenge\n",
    "One major challenge with this data was trying to organize the data into the format of a training set. \n",
    "Below I grab \"num_days\" number of days and create a dataframe that stores the happiness and frequency of each day. One issue that popped up is that if I grab 5 days right at the SPY date of 01/02/2019, I run out of twitter data. Now, I could have filled it in with the average, but instead I had the data automatically exclude SPY dates if I could not get all \"num_days\" from the twitter data. \n",
    "\n",
    "I also went back and decided to use datetimes to store date values for consistency."
   ]
  },
  {
   "cell_type": "code",
   "execution_count": 86,
   "id": "21d0b041",
   "metadata": {},
   "outputs": [
    {
     "name": "stdout",
     "output_type": "stream",
     "text": [
      "Could not reach far back as 2018-12-02 00:00:00 on twitter data\n",
      "You list will now start at: 02/15/2019\n"
     ]
    }
   ],
   "source": [
    "# next we want to set up our data set \n",
    "def get_X_y(twitter_data, spy_data, num_days = 5, preditct_column ='Open', output='upward'):\n",
    "    # get twitter data based on spy date\n",
    "    # arrange it into rows (reshape)\n",
    "    # add hapiness, add frequency, and add change \n",
    "    # repeat above for all dates! \n",
    "    # lets just go through each column \n",
    "    twitter_first_date = dt.datetime(2019, 1, 1)\n",
    "    date_list = spy_data['Date'].tolist()\n",
    "    # check date and nums look right \n",
    "    d = dt.datetime.strptime(date_list[0], '%m/%d/%Y')\n",
    "    if(d - dt.timedelta(days=num_days+1) < twitter_first_date ):\n",
    "            print(\"Could not reach far back as {} on twitter data\".format(d - dt.timedelta(days=num_days+1)))\n",
    "            date_list = date_list[num_days + 1:-1]\n",
    "            print(\"You list will now start at: {}\".format(date_list[0]))\n",
    "            pass\n",
    "    X = pd.DataFrame(index = range(0, num_days*2))\n",
    "    for date in date_list:\n",
    "        d = dt.datetime.strptime(date, '%m/%d/%Y')\n",
    "        d_before = d - dt.timedelta(days=1)\n",
    "        tw_pre_data = get_twitter_days(twitter_data, d_before, num_days)\n",
    "        tw_pre_data.reset_index(inplace=True)\n",
    "        X[date] = pd.concat([tw_pre_data['happiness'], tw_pre_data['frequency']], ignore_index=True)\n",
    "    X = X.T\n",
    "    # X is made\n",
    "    y_pre = get_spy_diff_data(spy_data, 'Open')\n",
    "    y_pre_index_start = int(y_pre[y_pre['Date'] == date_list[0]].index.values)\n",
    "    y_pre.reset_index(inplace = True)\n",
    "    y = y_pre[y_pre_index_start:]\n",
    "    y.set_index(y['Date'], inplace=True)\n",
    "    #y = pd.concat([y, y_pre[output][y_pre_index_start:]], ignore_index=True)\n",
    "    return X, pd.Series(y[output])\n",
    "\n",
    "X, y = get_X_y(twitter_emotions_df, spy_2019_beyond_data_df, 30)\n",
    "\n",
    "    "
   ]
  },
  {
   "cell_type": "code",
   "execution_count": 92,
   "id": "a649b353",
   "metadata": {},
   "outputs": [],
   "source": [
    "def prepare_data(X, y):\n",
    "    X_train, X_test, y_train, y_test = train_test_split(X, y, random_state=0, test_size=0.15)\n",
    "    return X_train, X_test, y_train, y_test"
   ]
  },
  {
   "cell_type": "markdown",
   "id": "fda45248",
   "metadata": {},
   "source": [
    "## Training the Model \n",
    "Here I get a base line accuracy using the LogisticRegression model. And already we are at a great start! We are better than guessing!"
   ]
  },
  {
   "cell_type": "code",
   "execution_count": 93,
   "id": "a2fb98e2",
   "metadata": {},
   "outputs": [],
   "source": [
    "def train_model(model, X_train, y_train, X_test, y_test, parameters={}):\n",
    "    model_UT = model\n",
    "    cf = GridSearchCV(model_UT, param_grid=parameters, scoring='accuracy', cv=5)\n",
    "    cf.fit(X_train, y_train)\n",
    "    best_model = cf.best_estimator_\n",
    "    best_score = cf.best_score_\n",
    "    best_params = cf.best_params_\n",
    "    return best_model, best_score, best_params\n",
    "    \n",
    "    "
   ]
  },
  {
   "cell_type": "code",
   "execution_count": 94,
   "id": "6b589e70",
   "metadata": {},
   "outputs": [
    {
     "name": "stdout",
     "output_type": "stream",
     "text": [
      "Could not reach far back as 2018-12-22 00:00:00 on twitter data\n",
      "You list will now start at: 01/17/2019\n",
      "(LogisticRegression(random_state=0), 0.5984709480122324, {})\n"
     ]
    }
   ],
   "source": [
    "X, y = get_X_y(twitter_emotions_df, spy_2019_beyond_data_df, 10)\n",
    "X_train, X_test, y_train, y_test = prepare_data(X, y)\n",
    "mod = LogisticRegression(random_state=0)\n",
    "print(train_model(mod, X_train, y_train, X_test, y_test))"
   ]
  },
  {
   "cell_type": "markdown",
   "id": "639df686",
   "metadata": {},
   "source": [
    "   ## Optimization\n",
    "\n",
    "For the models to train I wanted to try 3 classic classifer models, LogisticRegression, DecsionTreeClassifer, and a RandomForestClassifer. \n",
    "\n",
    "I optimized the model based on some partially arbitary parameters. I also optimized it for the number of twitter days. "
   ]
  },
  {
   "cell_type": "code",
   "execution_count": 95,
   "id": "c7dbdbfb",
   "metadata": {
    "scrolled": true
   },
   "outputs": [
    {
     "name": "stdout",
     "output_type": "stream",
     "text": [
      "Could not reach far back as 2018-12-27 00:00:00 on twitter data\n",
      "You list will now start at: 01/10/2019\n",
      "Could not reach far back as 2018-12-26 00:00:00 on twitter data\n",
      "You list will now start at: 01/11/2019\n",
      "Could not reach far back as 2018-12-25 00:00:00 on twitter data\n",
      "You list will now start at: 01/14/2019\n",
      "Could not reach far back as 2018-12-24 00:00:00 on twitter data\n",
      "You list will now start at: 01/15/2019\n",
      "Could not reach far back as 2018-12-23 00:00:00 on twitter data\n",
      "You list will now start at: 01/16/2019\n",
      "Could not reach far back as 2018-12-22 00:00:00 on twitter data\n",
      "You list will now start at: 01/17/2019\n",
      "Could not reach far back as 2018-12-21 00:00:00 on twitter data\n",
      "You list will now start at: 01/18/2019\n",
      "Could not reach far back as 2018-12-20 00:00:00 on twitter data\n",
      "You list will now start at: 01/22/2019\n",
      "Could not reach far back as 2018-12-19 00:00:00 on twitter data\n",
      "You list will now start at: 01/23/2019\n",
      "Could not reach far back as 2018-12-18 00:00:00 on twitter data\n",
      "You list will now start at: 01/24/2019\n",
      "Could not reach far back as 2018-12-17 00:00:00 on twitter data\n",
      "You list will now start at: 01/25/2019\n",
      "Could not reach far back as 2018-12-16 00:00:00 on twitter data\n",
      "You list will now start at: 01/28/2019\n",
      "Could not reach far back as 2018-12-15 00:00:00 on twitter data\n",
      "You list will now start at: 01/29/2019\n",
      "Could not reach far back as 2018-12-14 00:00:00 on twitter data\n",
      "You list will now start at: 01/30/2019\n",
      "Could not reach far back as 2018-12-13 00:00:00 on twitter data\n",
      "You list will now start at: 01/31/2019\n",
      "Could not reach far back as 2018-12-12 00:00:00 on twitter data\n",
      "You list will now start at: 02/01/2019\n",
      "Could not reach far back as 2018-12-11 00:00:00 on twitter data\n",
      "You list will now start at: 02/04/2019\n",
      "Could not reach far back as 2018-12-10 00:00:00 on twitter data\n",
      "You list will now start at: 02/05/2019\n",
      "Could not reach far back as 2018-12-09 00:00:00 on twitter data\n",
      "You list will now start at: 02/06/2019\n",
      "Could not reach far back as 2018-12-08 00:00:00 on twitter data\n",
      "You list will now start at: 02/07/2019\n",
      "Best score:  0.6298844716275909  with best model:  RandomForestClassifier(max_depth=5, min_samples_leaf=15, n_estimators=50,\n",
      "                       random_state=0) using number of days:  24\n"
     ]
    }
   ],
   "source": [
    "# go through each model type for different days and with different parameters\n",
    "best_models = []\n",
    "best_scores = []\n",
    "best_params = []\n",
    "models = [LogisticRegression(random_state=0), DecisionTreeClassifier(random_state=0), RandomForestClassifier(random_state=0) ]\n",
    "model_params = [{\"solver\":[\"newton-cg\", \"liblinear\", \"sag\", \"saga\", \"lbfgs\"]},\n",
    "                {\"min_samples_split\" : [5, 10, 15, 20, 25], 'max_depth':[None, 5, 10, 15], 'min_samples_leaf': [1, 3, 5, 10, 15]}, \n",
    "                {\"n_estimators\" : [25, 50, 60], 'max_depth':[None, 5, 10], 'min_samples_leaf': [1, 3, 5, 10, 15]}]\n",
    "\n",
    "for num_days in range(5, 25):\n",
    "    X, y = get_X_y(twitter_emotions_df, spy_2019_beyond_data_df, num_days)\n",
    "    X_train, X_test, y_train, y_test = prepare_data(X, y)\n",
    "    for ind, model in enumerate(models):\n",
    "        m1, s1, p1 =train_model(model, X_train, y_train, X_test, y_test, model_params[ind])\n",
    "        best_models.append(m1)\n",
    "        best_scores.append(s1)\n",
    "        best_params.append(p1)\n",
    "        best_num_days = num_days\n",
    "best_score_index = best_scores.index(max(best_scores))\n",
    "best_score = max(best_scores)\n",
    "best_model = best_models[best_score_index]\n",
    "best_param = best_params[best_score_index]\n",
    "print(\"Best score: \", best_score, \" with best model: \", best_model, \"using number of days: \", best_num_days)"
   ]
  },
  {
   "cell_type": "code",
   "execution_count": 106,
   "id": "995b33b2",
   "metadata": {},
   "outputs": [
    {
     "name": "stdout",
     "output_type": "stream",
     "text": [
      "Best Model:  RandomForestClassifier(max_depth=5, min_samples_leaf=15, n_estimators=50,\n",
      "                       random_state=0)\n",
      "Accuracy:  0.6298844716275909\n"
     ]
    },
    {
     "ename": "NameError",
     "evalue": "name 'best_num_days' is not defined",
     "output_type": "error",
     "traceback": [
      "\u001b[1;31m---------------------------------------------------------------------------\u001b[0m",
      "\u001b[1;31mNameError\u001b[0m                                 Traceback (most recent call last)",
      "\u001b[1;32m<ipython-input-106-b13e85079075>\u001b[0m in \u001b[0;36m<module>\u001b[1;34m\u001b[0m\n\u001b[0;32m      1\u001b[0m \u001b[0mprint\u001b[0m\u001b[1;33m(\u001b[0m\u001b[1;34m\"Best Model: \"\u001b[0m\u001b[1;33m,\u001b[0m \u001b[0mbest_model\u001b[0m\u001b[1;33m)\u001b[0m\u001b[1;33m\u001b[0m\u001b[1;33m\u001b[0m\u001b[0m\n\u001b[0;32m      2\u001b[0m \u001b[0mprint\u001b[0m\u001b[1;33m(\u001b[0m\u001b[1;34m\"Accuracy: \"\u001b[0m\u001b[1;33m,\u001b[0m \u001b[0mbest_score\u001b[0m\u001b[1;33m)\u001b[0m\u001b[1;33m\u001b[0m\u001b[1;33m\u001b[0m\u001b[0m\n\u001b[1;32m----> 3\u001b[1;33m \u001b[0mprint\u001b[0m\u001b[1;33m(\u001b[0m\u001b[1;34m\"Num of Days: \"\u001b[0m\u001b[1;33m,\u001b[0m \u001b[0mbest_num_days\u001b[0m\u001b[1;33m)\u001b[0m\u001b[1;33m\u001b[0m\u001b[1;33m\u001b[0m\u001b[0m\n\u001b[0m",
      "\u001b[1;31mNameError\u001b[0m: name 'best_num_days' is not defined"
     ]
    }
   ],
   "source": [
    "print(\"Best Model: \", best_model)\n",
    "print(\"Accuracy: \", best_score)\n",
    "print(\"Num of Days: \", best_num_days)"
   ]
  },
  {
   "cell_type": "code",
   "execution_count": 107,
   "id": "1be3f216",
   "metadata": {},
   "outputs": [
    {
     "name": "stdout",
     "output_type": "stream",
     "text": [
      "Could not reach far back as 2018-12-22 00:00:00 on twitter data\n",
      "You list will now start at: 01/17/2019\n",
      "Best Model:  RandomForestClassifier(max_depth=5, min_samples_leaf=15, n_estimators=50,\n",
      "                       random_state=0)\n",
      "Accuracy:  0.5104166666666666\n"
     ]
    }
   ],
   "source": [
    "\n",
    "X, y = get_X_y(twitter_emotions_df, spy_2019_beyond_data_df, 10)\n",
    "X_train, X_test, y_train, y_test = prepare_data(X, y)\n",
    "preds = best_model.predict(X_test)\n",
    "print(\"Best Model: \", best_model)\n",
    "print(\"Accuracy: \", accuracy_score(y_test, preds))"
   ]
  },
  {
   "cell_type": "markdown",
   "id": "0f2d7d78",
   "metadata": {},
   "source": [
    "## Results\n",
    "Well... we got 51% accuracy! Better than guessing (I guess), but not really that great. \n",
    "\n",
    "Some pitfalls that may have occurred:\n",
    "- The difference in the happiness range and frequency range are huge! \n",
    "    - Could have normalized the data to possibly improve accuracy\n",
    "- Could have made more educated choices for which parameters to test\n",
    "- Could use \"Reoccuring Time\" models that specialize in tying metrics to dates\n",
    "- Likley could have some overfitting still, it is possible the RandomForestClassifier model we picked has too much depth and not enough minimum samples per leaf. \n",
    "- Stocks are notoriously hard to predict \n"
   ]
  },
  {
   "cell_type": "markdown",
   "id": "30d17738",
   "metadata": {},
   "source": [
    "## Citation:\n",
    "SPY Data from: https://www.nasdaq.com/market-activity/funds-and-etfs/spy/historical\n",
    "\n",
    "Twitter Happiness Data From: \n",
    "\n",
    "@Misc{dodds2014a,\n",
    "  author = \t {Dodds, P. S. and Clark, E. M. and Desu, S. and Frank, M. R. and Reagan, A. J. and  Williams, J. R. and Mitchell, L. and Harris, K. D. and Kloumann, I. M. and Bagrow, J. P. and Megerdoomian, K. and McMahon, M. T. and Tivnan, B. F. and Danforth, C. M.},\n",
    "  title = \t {Human language reveals a universal positivity bias},\n",
    "  OPThowpublished = {},\n",
    "  OPTmonth = \t {},\n",
    "  year = \t {2014},\n",
    "  note = \t {Preprint available at \\href{http://arxiv.org/abs/1406.3855}{http://arxiv.org/abs/1406.3855}},\n",
    "  OPTannote = \t {}\n",
    "}\n",
    "\n",
    "\n"
   ]
  }
 ],
 "metadata": {
  "kernelspec": {
   "display_name": "Python 3",
   "language": "python",
   "name": "python3"
  },
  "language_info": {
   "codemirror_mode": {
    "name": "ipython",
    "version": 3
   },
   "file_extension": ".py",
   "mimetype": "text/x-python",
   "name": "python",
   "nbconvert_exporter": "python",
   "pygments_lexer": "ipython3",
   "version": "3.8.8"
  }
 },
 "nbformat": 4,
 "nbformat_minor": 5
}
